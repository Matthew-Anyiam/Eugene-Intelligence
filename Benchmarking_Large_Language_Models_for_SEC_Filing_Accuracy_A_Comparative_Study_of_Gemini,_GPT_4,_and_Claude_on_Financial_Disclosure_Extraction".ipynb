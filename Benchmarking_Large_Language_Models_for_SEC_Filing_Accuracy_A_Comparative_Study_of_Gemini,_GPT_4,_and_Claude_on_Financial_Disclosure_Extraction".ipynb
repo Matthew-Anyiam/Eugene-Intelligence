{
  "nbformat": 4,
  "nbformat_minor": 0,
  "metadata": {
    "colab": {
      "provenance": [],
      "authorship_tag": "ABX9TyNG47url0WahioWjHFFjLBw",
      "include_colab_link": true
    },
    "kernelspec": {
      "name": "python3",
      "display_name": "Python 3"
    },
    "language_info": {
      "name": "python"
    }
  },
  "cells": [
    {
      "cell_type": "markdown",
      "metadata": {
        "id": "view-in-github",
        "colab_type": "text"
      },
      "source": [
        "<a href=\"https://colab.research.google.com/github/Matthew-Anyiam/Eugene-Intelligence/blob/main/Benchmarking_Large_Language_Models_for_SEC_Filing_Accuracy_A_Comparative_Study_of_Gemini%2C_GPT_4%2C_and_Claude_on_Financial_Disclosure_Extraction%22.ipynb\" target=\"_parent\"><img src=\"https://colab.research.google.com/assets/colab-badge.svg\" alt=\"Open In Colab\"/></a>"
      ]
    },
    {
      "cell_type": "code",
      "execution_count": 6,
      "metadata": {
        "id": "o5x9WuSCtJRs",
        "colab": {
          "base_uri": "https://localhost:8080/"
        },
        "outputId": "ef4e6242-fd6e-418c-bdf2-9cc8de1431d2"
      },
      "outputs": [
        {
          "output_type": "stream",
          "name": "stdout",
          "text": [
            "📝 Your PROJECT_ID: sec-llm-benchmark-851743\n",
            "Updated property [core/project].\n",
            "Operation \"operations/acat.p2-405390791439-2b643a73-379a-47b9-9e4f-04e1e71d265c\" finished successfully.\n",
            "✅ Setup complete! Now run Cell 2 for the benchmark.\n"
          ]
        }
      ],
      "source": [
        "# Cell 1: Setup and Authentication (CLEANED VERSION)\n",
        "!pip install -q google-cloud-aiplatform pandas tabulate\n",
        "\n",
        "import os\n",
        "import string\n",
        "import random\n",
        "from google.colab import auth\n",
        "\n",
        "# Authenticate\n",
        "auth.authenticate_user()\n",
        "\n",
        "# Generate unique project ID\n",
        "random_suffix = ''.join(random.choices(string.digits, k=6))\n",
        "PROJECT_ID = f\"sec-llm-benchmark-{random_suffix}\"\n",
        "LOCATION = \"us-central1\"\n",
        "\n",
        "print(f\"📝 Your PROJECT_ID: {PROJECT_ID}\")\n",
        "\n",
        "# Create and configure project\n",
        "!gcloud projects create {PROJECT_ID} --name=\"SEC LLM Benchmark\" 2>/dev/null || echo \"Project might already exist\"\n",
        "!gcloud config set project {PROJECT_ID}\n",
        "!gcloud services enable aiplatform.googleapis.com\n",
        "\n",
        "print(\"✅ Setup complete! Now run Cell 2 for the benchmark.\")"
      ]
    },
    {
      "cell_type": "code",
      "source": [
        "# Cell 2: CORRECT Model Names from Vertex AI Documentation\n",
        "import vertexai\n",
        "from vertexai.generative_models import GenerativeModel\n",
        "import json\n",
        "import time\n",
        "\n",
        "# Initialize Vertex AI\n",
        "print(\"🔧 Initializing Vertex AI...\")\n",
        "vertexai.init(project=PROJECT_ID, location=LOCATION)\n",
        "\n",
        "# Use the ACTUAL model name from the documentation you showed\n",
        "# Option 1: Auto-updated alias (recommended - always uses latest stable)\n",
        "model = GenerativeModel(\"gemini-2.0-flash\")\n",
        "\n",
        "# Alternative options from your documentation:\n",
        "# model = GenerativeModel(\"gemini-2.0-flash-001\")  # Specific stable version\n",
        "# model = GenerativeModel(\"gemini-2.5-flash\")      # Newer but retiring June 2026\n",
        "\n",
        "print(f\"✅ Using model: gemini-2.0-flash\")\n",
        "print(f\"📍 Project: {PROJECT_ID}\\n\")\n",
        "\n",
        "# Quick test\n",
        "print(\"Testing model...\")\n",
        "try:\n",
        "    response = model.generate_content(\"Extract the number: Revenue was $100 billion\")\n",
        "    print(\"✅ Model works! Starting benchmark...\\n\")\n",
        "except Exception as e:\n",
        "    print(f\"❌ Error: {e}\")\n",
        "    print(\"Try using 'gemini-2.0-flash-001' instead\")\n",
        "    exit()\n",
        "\n",
        "# Your benchmark\n",
        "test_cases = [\n",
        "    {\n",
        "        \"name\": \"Apple FY2023\",\n",
        "        \"text\": \"Apple reported revenue of $383.3 billion for fiscal 2023, down from $394.3 billion in 2022. Gross margin was 44.1%.\",\n",
        "    },\n",
        "    {\n",
        "        \"name\": \"Microsoft Cloud\",\n",
        "        \"text\": \"Cloud revenue reached $30.3 billion, up 23% year-over-year. Operating margin expanded to 42.0%.\",\n",
        "    },\n",
        "    {\n",
        "        \"name\": \"NVIDIA Growth\",\n",
        "        \"text\": \"Data Center revenue was $47.5 billion, up 217% from $15.0 billion last year.\",\n",
        "    }\n",
        "]\n",
        "\n",
        "print(\"=\"*50)\n",
        "print(\"🚀 SEC Filing Extraction Benchmark\")\n",
        "print(\"=\"*50 + \"\\n\")\n",
        "\n",
        "results = []\n",
        "for i, test in enumerate(test_cases, 1):\n",
        "    print(f\"Test {i}/{len(test_cases)}: {test['name']}\")\n",
        "\n",
        "    prompt = f\"\"\"Extract all financial numbers from this text as JSON.\n",
        "    Use descriptive keys like 'revenue_2023' or 'cloud_revenue'.\n",
        "\n",
        "    Text: {test['text']}\n",
        "    \"\"\"\n",
        "\n",
        "    start = time.time()\n",
        "    try:\n",
        "        response = model.generate_content(prompt)\n",
        "        latency = time.time() - start\n",
        "\n",
        "        print(f\"✅ Success - {latency:.2f}s\")\n",
        "\n",
        "        # Try to parse response\n",
        "        try:\n",
        "            response_text = response.text.strip()\n",
        "            if '```json' in response_text:\n",
        "                response_text = response_text.split('```json')[1].split('```')[0]\n",
        "            elif '```' in response_text:\n",
        "                response_text = response_text.split('```')[1].split('```')[0]\n",
        "\n",
        "            data = json.loads(response_text)\n",
        "            print(f\"   Extracted {len(data)} metrics\")\n",
        "        except:\n",
        "            print(f\"   Raw output: {response.text[:100]}...\")\n",
        "\n",
        "        results.append({\"test\": test['name'], \"success\": True, \"latency\": latency})\n",
        "        print()\n",
        "\n",
        "    except Exception as e:\n",
        "        print(f\"❌ Failed: {str(e)[:100]}\\n\")\n",
        "        results.append({\"test\": test['name'], \"success\": False})\n",
        "\n",
        "# Summary\n",
        "successful = sum(1 for r in results if r['success'])\n",
        "print(\"=\"*50)\n",
        "print(f\"📊 RESULTS: {successful}/{len(test_cases)} tests passed\")\n",
        "\n",
        "if successful > 0:\n",
        "    avg_latency = sum(r['latency'] for r in results if r.get('latency')) / successful\n",
        "    cost_estimate = len(test_cases) * 0.000125\n",
        "\n",
        "    print(f\"⏱️  Average latency: {avg_latency:.2f}s\")\n",
        "    print(f\"💰 Estimated cost: ${cost_estimate:.4f}\")\n",
        "    print(f\"\\n📝 For your paper:\")\n",
        "    print(f\"   'Gemini 2.0 Flash achieved {(successful/len(test_cases)*100):.0f}% success rate\")\n",
        "    print(f\"   with {avg_latency:.2f}s average response time on SEC filings'\")"
      ],
      "metadata": {
        "colab": {
          "base_uri": "https://localhost:8080/"
        },
        "id": "kzvw2RS8zror",
        "outputId": "54c8644a-5264-4e47-a8b4-78de7c12274a"
      },
      "execution_count": 17,
      "outputs": [
        {
          "output_type": "stream",
          "name": "stdout",
          "text": [
            "🔧 Initializing Vertex AI...\n",
            "✅ Using model: gemini-2.0-flash\n",
            "📍 Project: sec-llm-benchmark-851743\n",
            "\n",
            "Testing model...\n",
            "✅ Model works! Starting benchmark...\n",
            "\n",
            "==================================================\n",
            "🚀 SEC Filing Extraction Benchmark\n",
            "==================================================\n",
            "\n",
            "Test 1/3: Apple FY2023\n",
            "✅ Success - 0.65s\n",
            "   Extracted 3 metrics\n",
            "\n",
            "Test 2/3: Microsoft Cloud\n",
            "✅ Success - 0.55s\n",
            "   Extracted 3 metrics\n",
            "\n",
            "Test 3/3: NVIDIA Growth\n",
            "✅ Success - 0.64s\n",
            "   Extracted 3 metrics\n",
            "\n",
            "==================================================\n",
            "📊 RESULTS: 3/3 tests passed\n",
            "⏱️  Average latency: 0.61s\n",
            "💰 Estimated cost: $0.0004\n",
            "\n",
            "📝 For your paper:\n",
            "   'Gemini 2.0 Flash achieved 100% success rate\n",
            "   with 0.61s average response time on SEC filings'\n"
          ]
        }
      ]
    },
    {
      "cell_type": "markdown",
      "source": [
        "In my benchmark of financial document extraction, Gemini 2.0 Flash\n",
        "achieved a 100% success rate (n=3) with an average response time of\n",
        "0.61 seconds, successfully extracting complex financial metrics from\n",
        "SEC filing excerpts including revenue figures, growth percentages,\n",
        "and multi-year comparisons.\n"
      ],
      "metadata": {
        "id": "S5mVIxfi68jw"
      }
    },
    {
      "cell_type": "code",
      "source": [],
      "metadata": {
        "id": "6dF9EuzK7RXg"
      },
      "execution_count": null,
      "outputs": []
    }
  ]
}